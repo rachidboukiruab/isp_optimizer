{
 "cells": [
  {
   "cell_type": "code",
   "execution_count": null,
   "metadata": {},
   "outputs": [],
   "source": [
    "import yaml\n",
    "import matplotlib.pyplot as plt\n",
    "import numpy as np"
   ]
  },
  {
   "cell_type": "markdown",
   "metadata": {},
   "source": [
    "## All classes"
   ]
  },
  {
   "cell_type": "code",
   "execution_count": null,
   "metadata": {},
   "outputs": [],
   "source": [
    "yaml_file = 'out/20230809_allclasses/optimization_data_cma.yaml'\n",
    "\n",
    "with open(yaml_file, 'r') as file:\n",
    "    data = yaml.load(file, Loader=yaml.FullLoader)\n",
    "data  "
   ]
  },
  {
   "cell_type": "code",
   "execution_count": null,
   "metadata": {},
   "outputs": [],
   "source": [
    "def plot_map(mAP_values, cls=None):\n",
    "    epochs = list(range(1, len(mAP_values)+1))\n",
    "    plt.plot(epochs, mAP_values, linestyle='-', color='b')\n",
    "    plt.xlabel('Epoch')\n",
    "    plt.ylabel('mAP Value')\n",
    "    if cls is not None:\n",
    "        plt.title(f'mAP Evolution for {cls} category')\n",
    "    else:\n",
    "        plt.title('mAP Evolution')\n",
    "    plt.grid(True)\n",
    "    plt.show()"
   ]
  },
  {
   "cell_type": "code",
   "execution_count": null,
   "metadata": {},
   "outputs": [],
   "source": [
    "classes = ['car', 'person', 'motorbike', 'motorcycle']\n",
    "mAP_sum_per_index = np.zeros(len(data['car']['mAP']))\n",
    "valid_classes = 0\n",
    "for cls in classes:\n",
    "    if cls in data.keys():\n",
    "        mAP_values = data[cls]['mAP']\n",
    "        plot_map(mAP_values, cls=cls)\n",
    "        max_mAP = np.max(mAP_values)*100\n",
    "        print(f'The maximum mAP achieved in {cls} category is {max_mAP:.2f} %')\n",
    "\n",
    "        mAP_sum_per_index += mAP_values\n",
    "        valid_classes += 1\n",
    "\n"
   ]
  },
  {
   "cell_type": "code",
   "execution_count": null,
   "metadata": {},
   "outputs": [],
   "source": [
    "average_mAP_per_index = mAP_sum_per_index / valid_classes if valid_classes > 0 else np.zeros(len(data['car']['mAP']))\n",
    "plot_map(average_mAP_per_index)\n",
    "max_mAP = np.max(average_mAP_per_index)*100\n",
    "print(f'The maximum mAP achieved is {max_mAP:.2f} %')\n",
    "print(f'The final mAP achieved is {average_mAP_per_index[-1]*100:.2f} %')"
   ]
  },
  {
   "cell_type": "markdown",
   "metadata": {},
   "source": [
    "The Hyperparameters combination with the best mAP:"
   ]
  },
  {
   "cell_type": "code",
   "execution_count": null,
   "metadata": {},
   "outputs": [],
   "source": [
    "max_mAP_index = np.argmax(average_mAP_per_index)\n",
    "text = ''\n",
    "for module in data['Hyperparameters']:\n",
    "    for param in data['Hyperparameters'][module]:\n",
    "        if type(data['Hyperparameters'][module][param][max_mAP_index]) == list:\n",
    "            text += '{}:{}\\t'.format(param, data['Hyperparameters'][module][param][max_mAP_index])\n",
    "        else:\n",
    "            text += '{}:{:.2f}\\t'.format(param, data['Hyperparameters'][module][param][max_mAP_index])\n",
    "\n",
    "print(f'{text}mAP: {max_mAP:.2f}%')"
   ]
  },
  {
   "cell_type": "markdown",
   "metadata": {},
   "source": [
    "The Hyperparameters combination with the final mAP:"
   ]
  },
  {
   "cell_type": "code",
   "execution_count": null,
   "metadata": {},
   "outputs": [],
   "source": [
    "last_mAP_index = len(average_mAP_per_index)-1\n",
    "text = ''\n",
    "for module in data['Hyperparameters']:\n",
    "    for param in data['Hyperparameters'][module]:\n",
    "        if type(data['Hyperparameters'][module][param][last_mAP_index]) == list:\n",
    "            text += '{}:{}\\t'.format(param, data['Hyperparameters'][module][param][last_mAP_index])\n",
    "        else:\n",
    "            text += '{}:{:.2f}\\t'.format(param, data['Hyperparameters'][module][param][last_mAP_index])\n",
    "\n",
    "print(f'{text}mAP: {average_mAP_per_index[last_mAP_index]*100:.2f}%')"
   ]
  },
  {
   "cell_type": "markdown",
   "metadata": {},
   "source": [
    "The code for inference"
   ]
  },
  {
   "cell_type": "code",
   "execution_count": null,
   "metadata": {},
   "outputs": [],
   "source": [
    "from thirdparty.openISP.pipeline import Pipeline\n",
    "from thirdparty.openISP.utils.yacs import Config\n",
    "import skimage.io\n",
    "import torch\n",
    "import cv2\n",
    "import matplotlib.pyplot as plt\n",
    "\n",
    "model = torch.hub.load('ultralytics/yolov5', 'yolov5n', pretrained=True, verbose=False)\n",
    "class_colors = {\n",
    "            \"car\": (128, 0, 128),  # Purple\n",
    "            \"person\": (0, 0, 139),  # Dark red\n",
    "            \"motorbike\": (255, 255, 0),  # Cyan\n",
    "            \"motorcycle\": (255, 255, 0),  # Cyan\n",
    "            \"truck\": (0, 139, 139)  # Yellow\n",
    "        }"
   ]
  },
  {
   "cell_type": "code",
   "execution_count": null,
   "metadata": {},
   "outputs": [],
   "source": [
    "def show_bounding_boxes(img, results, classes=[\"car\"], min_conf=0.5, visualize_img=False, save_img=False, out_path=\"\"):\n",
    "    img = cv2.cvtColor(img, cv2.COLOR_RGB2BGR)\n",
    "    bboxes = results.xyxy[0]  # Obtener las bounding boxes\n",
    "    for bbox in bboxes:\n",
    "        class_name = results.names[int(bbox[5])]\n",
    "\n",
    "        if (class_name in classes) and (bbox[4] >= min_conf):\n",
    "            x1, y1, x2, y2 = map(int, bbox[:4])  # bounding box coordinates\n",
    "            label = f\"{class_name}: {bbox[4]:.2f}\"  # Class and confidence score\n",
    "\n",
    "            color = class_colors.get(class_name, (0, 0, 0)) # black if class not exists\n",
    "\n",
    "            # Draw bounding box in the image\n",
    "            cv2.rectangle(img, (x1, y1), (x2, y2), color, 5)\n",
    "            cv2.putText(img, label, (x1, y1 - 10), cv2.FONT_HERSHEY_SIMPLEX, 2, color, 5)\n",
    "    \n",
    "    if visualize_img:\n",
    "        plt.figure(figsize = (80,40))\n",
    "        plt.axis(\"off\")\n",
    "        # convert color from CV2 BGR back to RGB\n",
    "        image = cv2.cvtColor(img, cv2.COLOR_BGR2RGB)\n",
    "        plt.imshow(image)\n",
    "        plt.show()\n",
    "\n",
    "\n",
    "    if save_img:\n",
    "        # Calculate new dimensions (half of original size)\n",
    "        new_width = img.shape[1] // 4\n",
    "        new_height = img.shape[0] // 4\n",
    "        # Resize the image\n",
    "        resized_image = cv2.resize(img, (new_width, new_height))\n",
    "        cv2.imwrite(out_path, img, [cv2.IMWRITE_JPEG_QUALITY, 70])\n",
    "\n",
    "\n",
    "\n",
    "def inference(processed_img, visualize_img=False, classes=['car', 'motorbike', 'person'], min_conf=0.5, save_img=False, out_path=''):\n",
    "    results = model(processed_img)\n",
    "    if visualize_img or save_img:\n",
    "        show_bounding_boxes(processed_img, results, classes, min_conf, visualize_img, save_img, out_path)\n",
    "\n",
    "\n",
    "def process_image(img_path, isp_conf, visualize_img=False, classes=['car', 'motorbike', 'person'], min_conf=0.5, save_img=False, out_path=''):\n",
    "    pipeline = Pipeline(isp_conf)\n",
    "    bayer = skimage.io.imread(img_path).astype(np.uint8)\n",
    "    data, _ = pipeline.execute(bayer, verbose=False)\n",
    "    processed_img = data['output']\n",
    "    #img_name = img_path.split('/')[-1]\n",
    "    #img_out_path = out_path + img_name\n",
    "    # Perform image detection and calculate IoU and mAP\n",
    "    inference(processed_img, visualize_img=visualize_img, classes=classes, min_conf=min_conf, save_img=save_img, out_path=out_path)\n",
    "\n",
    "\n",
    "def load_hyperparameters(dict_hyp, isp_config, dict_idx):\n",
    "    for module in dict_hyp:\n",
    "            for param in dict_hyp[module]:\n",
    "                if type(dict_hyp[module][param][dict_idx]) == list:\n",
    "                    with isp_config.unfreeze():\n",
    "                        isp_config[module][param] = tuple(dict_hyp[module][param][dict_idx])\n",
    "                else:\n",
    "                    with isp_config.unfreeze():\n",
    "                        isp_config[module][param] = dict_hyp[module][param][dict_idx]\n",
    "    return isp_config"
   ]
  },
  {
   "cell_type": "code",
   "execution_count": null,
   "metadata": {},
   "outputs": [],
   "source": [
    "config_file = \"C:/Users/F36RB01/Documents/GitHub/isp_optimizer/configs/default_tuning.yaml\"\n",
    "img_path = \"C:/Users/F36RB01/Documents/master/TFM/repos/raw_dataset.v4i.voc/valid/021.png\"\n",
    "\n",
    "\n",
    "isp_conf = Config(config_file)"
   ]
  },
  {
   "cell_type": "code",
   "execution_count": null,
   "metadata": {},
   "outputs": [],
   "source": [
    "%matplotlib inline\n",
    "process_image(img_path, isp_conf, visualize_img=True, classes=classes)"
   ]
  },
  {
   "cell_type": "code",
   "execution_count": null,
   "metadata": {},
   "outputs": [],
   "source": [
    "new_isp_config = load_hyperparameters(data[\"Hyperparameters\"], isp_conf, max_mAP_index)\n",
    "process_image(img_path, new_isp_config, visualize_img=True, classes=classes)"
   ]
  },
  {
   "cell_type": "code",
   "execution_count": null,
   "metadata": {},
   "outputs": [],
   "source": [
    "new_isp_config = load_hyperparameters(data[\"Hyperparameters\"], isp_conf, last_mAP_index)\n",
    "process_image(img_path, new_isp_config, visualize_img=True, classes=classes)"
   ]
  },
  {
   "cell_type": "code",
   "execution_count": null,
   "metadata": {},
   "outputs": [],
   "source": [
    "for i in range(len(data['car']['mAP'])):\n",
    "    new_isp_config = load_hyperparameters(data[\"Hyperparameters\"], isp_conf, i)\n",
    "    process_image(img_path, new_isp_config, visualize_img=False, classes=classes, save_img=True, out_path='processed_img/file%02d.jpg' % i)\n",
    "\n"
   ]
  },
  {
   "cell_type": "code",
   "execution_count": null,
   "metadata": {},
   "outputs": [],
   "source": [
    "import os\n",
    "import subprocess\n",
    "os.chdir(\"processed_img\")\n",
    "subprocess.call([\n",
    "    'ffmpeg', '-framerate', '8', '-i', 'file%02d.jpg', '-r', '30', '-pix_fmt', 'yuv420p',\n",
    "    'video.mp4'\n",
    "])"
   ]
  },
  {
   "cell_type": "code",
   "execution_count": null,
   "metadata": {},
   "outputs": [],
   "source": [
    "from optimizer.optimizer import Optimizer\n",
    "\n"
   ]
  },
  {
   "cell_type": "code",
   "execution_count": null,
   "metadata": {},
   "outputs": [],
   "source": [
    "cfg = Config('configs/main_config_notebook.yaml')\n",
    "opt = Optimizer(cfg)"
   ]
  },
  {
   "cell_type": "code",
   "execution_count": null,
   "metadata": {},
   "outputs": [],
   "source": [
    "\n",
    "load_hyperparameters(data[\"Hyperparameters\"], opt.isp_conf, max_mAP_index)\n",
    "print(opt.isp_conf)"
   ]
  },
  {
   "cell_type": "code",
   "execution_count": null,
   "metadata": {},
   "outputs": [],
   "source": [
    "mean_iou, mean_mAP, end_time = opt.batch_image_processing()\n",
    "print(f'IoU: {mean_iou:.3f} \\t mAP: {mean_mAP:.3f} \\t Computation Time (s): {end_time:.5f}')"
   ]
  },
  {
   "cell_type": "code",
   "execution_count": null,
   "metadata": {},
   "outputs": [],
   "source": [
    "load_hyperparameters(data[\"Hyperparameters\"], opt.isp_conf, last_mAP_index)\n",
    "print(opt.isp_conf)\n",
    "\n",
    "mean_iou, mean_mAP, end_time = opt.batch_image_processing()\n",
    "print(f'IoU: {mean_iou:.3f} \\t mAP: {mean_mAP:.3f} \\t Computation Time (s): {end_time:.5f}')"
   ]
  },
  {
   "cell_type": "markdown",
   "metadata": {},
   "source": [
    "## Cars"
   ]
  },
  {
   "cell_type": "code",
   "execution_count": null,
   "metadata": {},
   "outputs": [],
   "source": [
    "yaml_file = 'out/20230811_car/out/optimization_data_cma.yaml'\n",
    "\n",
    "with open(yaml_file, 'r') as file:\n",
    "    data = yaml.load(file, Loader=yaml.FullLoader)\n",
    "data  "
   ]
  },
  {
   "cell_type": "code",
   "execution_count": null,
   "metadata": {},
   "outputs": [],
   "source": [
    "def plot_map(mAP_values, cls=None):\n",
    "    epochs = list(range(1, len(mAP_values)+1))\n",
    "    plt.plot(epochs, mAP_values, linestyle='-', color='b')\n",
    "    plt.xlabel('Epoch')\n",
    "    plt.ylabel('mAP Value')\n",
    "    if cls is not None:\n",
    "        plt.title(f'mAP Evolution for {cls} category')\n",
    "    else:\n",
    "        plt.title('mAP Evolution')\n",
    "    plt.grid(True)\n",
    "    plt.show()"
   ]
  },
  {
   "cell_type": "code",
   "execution_count": null,
   "metadata": {},
   "outputs": [],
   "source": [
    "classes = ['car', 'person', 'motorbike', 'motorcycle']\n",
    "mAP_sum_per_index = np.zeros(len(data['car']['mAP']))\n",
    "valid_classes = 0\n",
    "for cls in classes:\n",
    "    if cls in data.keys():\n",
    "        mAP_values = data[cls]['mAP']\n",
    "        plot_map(mAP_values, cls=cls)\n",
    "        max_mAP = np.max(mAP_values)*100\n",
    "        print(f'The maximum mAP achieved in {cls} category is {max_mAP:.2f} %')\n",
    "\n",
    "        mAP_sum_per_index += mAP_values\n",
    "        valid_classes += 1\n",
    "\n"
   ]
  },
  {
   "cell_type": "code",
   "execution_count": null,
   "metadata": {},
   "outputs": [],
   "source": [
    "average_mAP_per_index = mAP_sum_per_index / valid_classes if valid_classes > 0 else np.zeros(len(data['car']['mAP']))\n",
    "plot_map(average_mAP_per_index)\n",
    "max_mAP = np.max(average_mAP_per_index)*100\n",
    "print(f'The maximum mAP achieved is {max_mAP:.2f} %')\n",
    "print(f'The final mAP achieved is {average_mAP_per_index[-1]*100:.2f} %')"
   ]
  },
  {
   "cell_type": "markdown",
   "metadata": {},
   "source": [
    "The Hyperparameters combination with the best mAP:"
   ]
  },
  {
   "cell_type": "code",
   "execution_count": null,
   "metadata": {},
   "outputs": [],
   "source": [
    "max_mAP_index = np.argmax(average_mAP_per_index)\n",
    "text = ''\n",
    "for module in data['Hyperparameters']:\n",
    "    for param in data['Hyperparameters'][module]:\n",
    "        if type(data['Hyperparameters'][module][param][max_mAP_index]) == list:\n",
    "            text += '{}:{}\\t'.format(param, data['Hyperparameters'][module][param][max_mAP_index])\n",
    "        else:\n",
    "            text += '{}:{:.2f}\\t'.format(param, data['Hyperparameters'][module][param][max_mAP_index])\n",
    "\n",
    "print(f'{text}mAP: {max_mAP:.2f}%')"
   ]
  },
  {
   "cell_type": "markdown",
   "metadata": {},
   "source": [
    "The Hyperparameters combination with the final mAP:"
   ]
  },
  {
   "cell_type": "code",
   "execution_count": null,
   "metadata": {},
   "outputs": [],
   "source": [
    "last_mAP_index = len(average_mAP_per_index)-1\n",
    "text = ''\n",
    "for module in data['Hyperparameters']:\n",
    "    for param in data['Hyperparameters'][module]:\n",
    "        if type(data['Hyperparameters'][module][param][last_mAP_index]) == list:\n",
    "            text += '{}:{}\\t'.format(param, data['Hyperparameters'][module][param][last_mAP_index])\n",
    "        else:\n",
    "            text += '{}:{:.2f}\\t'.format(param, data['Hyperparameters'][module][param][last_mAP_index])\n",
    "\n",
    "print(f'{text}mAP: {average_mAP_per_index[last_mAP_index]*100:.2f}%')"
   ]
  },
  {
   "cell_type": "markdown",
   "metadata": {},
   "source": [
    "The code for inference"
   ]
  },
  {
   "cell_type": "code",
   "execution_count": null,
   "metadata": {},
   "outputs": [],
   "source": [
    "from thirdparty.openISP.pipeline import Pipeline\n",
    "from thirdparty.openISP.utils.yacs import Config\n",
    "import skimage.io\n",
    "import torch\n",
    "import cv2\n",
    "import matplotlib.pyplot as plt\n",
    "\n",
    "model = torch.hub.load('ultralytics/yolov5', 'yolov5n', pretrained=True, verbose=False)\n",
    "class_colors = {\n",
    "            \"car\": (128, 0, 128),  # Purple\n",
    "            \"person\": (0, 0, 139),  # Dark red\n",
    "            \"motorbike\": (255, 255, 0),  # Cyan\n",
    "            \"motorcycle\": (255, 255, 0),  # Cyan\n",
    "            \"truck\": (0, 139, 139)  # Yellow\n",
    "        }"
   ]
  },
  {
   "cell_type": "code",
   "execution_count": null,
   "metadata": {},
   "outputs": [],
   "source": [
    "def show_bounding_boxes(img, results, classes=[\"car\"], min_conf=0.5, visualize_img=False, save_img=False, out_path=\"\"):\n",
    "    img = cv2.cvtColor(img, cv2.COLOR_RGB2BGR)\n",
    "    bboxes = results.xyxy[0]  # Obtener las bounding boxes\n",
    "    for bbox in bboxes:\n",
    "        class_name = results.names[int(bbox[5])]\n",
    "\n",
    "        if (class_name in classes) and (bbox[4] >= min_conf):\n",
    "            x1, y1, x2, y2 = map(int, bbox[:4])  # bounding box coordinates\n",
    "            label = f\"{class_name}: {bbox[4]:.2f}\"  # Class and confidence score\n",
    "\n",
    "            color = class_colors.get(class_name, (0, 0, 0)) # black if class not exists\n",
    "\n",
    "            # Draw bounding box in the image\n",
    "            cv2.rectangle(img, (x1, y1), (x2, y2), color, 5)\n",
    "            cv2.putText(img, label, (x1, y1 - 10), cv2.FONT_HERSHEY_SIMPLEX, 2, color, 5)\n",
    "    \n",
    "    if visualize_img:\n",
    "        plt.figure(figsize = (80,40))\n",
    "        plt.axis(\"off\")\n",
    "        # convert color from CV2 BGR back to RGB\n",
    "        image = cv2.cvtColor(img, cv2.COLOR_BGR2RGB)\n",
    "        plt.imshow(image)\n",
    "        plt.show()\n",
    "\n",
    "\n",
    "    if save_img:\n",
    "        # Calculate new dimensions (half of original size)\n",
    "        new_width = img.shape[1] // 4\n",
    "        new_height = img.shape[0] // 4\n",
    "        # Resize the image\n",
    "        resized_image = cv2.resize(img, (new_width, new_height))\n",
    "        cv2.imwrite(out_path, img, [cv2.IMWRITE_JPEG_QUALITY, 70])\n",
    "\n",
    "\n",
    "\n",
    "def inference(processed_img, visualize_img=False, classes=['car', 'motorbike', 'person'], min_conf=0.5, save_img=False, out_path=''):\n",
    "    results = model(processed_img)\n",
    "    if visualize_img or save_img:\n",
    "        show_bounding_boxes(processed_img, results, classes, min_conf, visualize_img, save_img, out_path)\n",
    "\n",
    "\n",
    "def process_image(img_path, isp_conf, visualize_img=False, classes=['car', 'motorbike', 'person'], min_conf=0.5, save_img=False, out_path=''):\n",
    "    pipeline = Pipeline(isp_conf)\n",
    "    bayer = skimage.io.imread(img_path).astype(np.uint8)\n",
    "    data, _ = pipeline.execute(bayer, verbose=False)\n",
    "    processed_img = data['output']\n",
    "    #img_name = img_path.split('/')[-1]\n",
    "    #img_out_path = out_path + img_name\n",
    "    # Perform image detection and calculate IoU and mAP\n",
    "    inference(processed_img, visualize_img=visualize_img, classes=classes, min_conf=min_conf, save_img=save_img, out_path=out_path)\n",
    "\n",
    "\n",
    "def load_hyperparameters(dict_hyp, isp_config, dict_idx):\n",
    "    for module in dict_hyp:\n",
    "            for param in dict_hyp[module]:\n",
    "                if type(dict_hyp[module][param][dict_idx]) == list:\n",
    "                    with isp_config.unfreeze():\n",
    "                        isp_config[module][param] = tuple(dict_hyp[module][param][dict_idx])\n",
    "                else:\n",
    "                    with isp_config.unfreeze():\n",
    "                        isp_config[module][param] = dict_hyp[module][param][dict_idx]\n",
    "    return isp_config"
   ]
  },
  {
   "cell_type": "code",
   "execution_count": null,
   "metadata": {},
   "outputs": [],
   "source": [
    "config_file = \"C:/Users/F36RB01/Documents/GitHub/isp_optimizer/configs/default_tuning.yaml\"\n",
    "img_path = \"C:/Users/F36RB01/Documents/master/TFM/repos/raw_dataset.v4i.voc/valid/021.png\"\n",
    "\n",
    "\n",
    "isp_conf = Config(config_file)"
   ]
  },
  {
   "cell_type": "code",
   "execution_count": null,
   "metadata": {},
   "outputs": [],
   "source": [
    "%matplotlib inline\n",
    "process_image(img_path, isp_conf, visualize_img=True, classes=classes)"
   ]
  },
  {
   "cell_type": "code",
   "execution_count": null,
   "metadata": {},
   "outputs": [],
   "source": [
    "new_isp_config = load_hyperparameters(data[\"Hyperparameters\"], isp_conf, max_mAP_index)\n",
    "process_image(img_path, new_isp_config, visualize_img=True, classes=classes)"
   ]
  },
  {
   "cell_type": "code",
   "execution_count": null,
   "metadata": {},
   "outputs": [],
   "source": [
    "new_isp_config = load_hyperparameters(data[\"Hyperparameters\"], isp_conf, last_mAP_index)\n",
    "process_image(img_path, new_isp_config, visualize_img=True, classes=classes)"
   ]
  },
  {
   "cell_type": "code",
   "execution_count": null,
   "metadata": {},
   "outputs": [],
   "source": [
    "for i in range(len(data['car']['mAP'])):\n",
    "    new_isp_config = load_hyperparameters(data[\"Hyperparameters\"], isp_conf, i)\n",
    "    process_image(img_path, new_isp_config, visualize_img=False, classes=classes, save_img=True, out_path='processed_img/file%02d.jpg' % i)\n",
    "\n"
   ]
  },
  {
   "cell_type": "code",
   "execution_count": null,
   "metadata": {},
   "outputs": [],
   "source": [
    "import os\n",
    "import subprocess\n",
    "os.chdir(\"processed_img\")\n",
    "subprocess.call([\n",
    "    'ffmpeg', '-framerate', '8', '-i', 'file%02d.jpg', '-r', '30', '-pix_fmt', 'yuv420p',\n",
    "    'video.mp4'\n",
    "])"
   ]
  },
  {
   "cell_type": "code",
   "execution_count": null,
   "metadata": {},
   "outputs": [],
   "source": [
    "from optimizer.optimizer import Optimizer\n",
    "\n"
   ]
  },
  {
   "cell_type": "code",
   "execution_count": null,
   "metadata": {},
   "outputs": [],
   "source": [
    "cfg = Config('configs/main_config_notebook.yaml')\n",
    "opt = Optimizer(cfg)"
   ]
  },
  {
   "cell_type": "code",
   "execution_count": null,
   "metadata": {},
   "outputs": [],
   "source": [
    "\n",
    "load_hyperparameters(data[\"Hyperparameters\"], opt.isp_conf, max_mAP_index)\n",
    "print(opt.isp_conf)"
   ]
  },
  {
   "cell_type": "code",
   "execution_count": null,
   "metadata": {},
   "outputs": [],
   "source": [
    "mean_iou, mean_mAP, end_time = opt.batch_image_processing()\n",
    "print(f'IoU: {mean_iou:.3f} \\t mAP: {mean_mAP:.3f} \\t Computation Time (s): {end_time:.5f}')"
   ]
  },
  {
   "cell_type": "code",
   "execution_count": null,
   "metadata": {},
   "outputs": [],
   "source": [
    "load_hyperparameters(data[\"Hyperparameters\"], opt.isp_conf, last_mAP_index)\n",
    "print(opt.isp_conf)\n",
    "\n",
    "mean_iou, mean_mAP, end_time = opt.batch_image_processing()\n",
    "print(f'IoU: {mean_iou:.3f} \\t mAP: {mean_mAP:.3f} \\t Computation Time (s): {end_time:.5f}')"
   ]
  },
  {
   "cell_type": "markdown",
   "metadata": {},
   "source": [
    "## All classes Modifying mor hyperparameters"
   ]
  },
  {
   "cell_type": "code",
   "execution_count": null,
   "metadata": {},
   "outputs": [],
   "source": [
    "yaml_file = 'out/20230821_allclasses/out/optimization_data_cma.yaml'\n",
    "\n",
    "with open(yaml_file, 'r') as file:\n",
    "    data = yaml.load(file, Loader=yaml.FullLoader)\n",
    "data  "
   ]
  },
  {
   "cell_type": "code",
   "execution_count": null,
   "metadata": {},
   "outputs": [],
   "source": [
    "def plot_map(mAP_values, cls=None):\n",
    "    epochs = list(range(1, len(mAP_values)+1))\n",
    "    plt.plot(epochs, mAP_values, linestyle='-', color='b')\n",
    "    plt.xlabel('Epoch')\n",
    "    plt.ylabel('mAP Value')\n",
    "    if cls is not None:\n",
    "        plt.title(f'mAP Evolution for {cls} category')\n",
    "    else:\n",
    "        plt.title('mAP Evolution')\n",
    "    plt.grid(True)\n",
    "    plt.show()"
   ]
  },
  {
   "cell_type": "code",
   "execution_count": null,
   "metadata": {},
   "outputs": [],
   "source": [
    "classes = ['car', 'person', 'motorbike', 'motorcycle']\n",
    "mAP_sum_per_index = np.zeros(len(data['car']['mAP']))\n",
    "valid_classes = 0\n",
    "for cls in classes:\n",
    "    if cls in data.keys():\n",
    "        mAP_values = data[cls]['mAP']\n",
    "        plot_map(mAP_values, cls=cls)\n",
    "        max_mAP = np.max(mAP_values)*100\n",
    "        print(f'The maximum mAP achieved in {cls} category is {max_mAP:.2f} %')\n",
    "\n",
    "        mAP_sum_per_index += mAP_values\n",
    "        valid_classes += 1\n",
    "\n"
   ]
  },
  {
   "cell_type": "code",
   "execution_count": null,
   "metadata": {},
   "outputs": [],
   "source": [
    "average_mAP_per_index = mAP_sum_per_index / valid_classes if valid_classes > 0 else np.zeros(len(data['car']['mAP']))\n",
    "plot_map(average_mAP_per_index)\n",
    "max_mAP = np.max(average_mAP_per_index)*100\n",
    "print(f'The maximum mAP achieved is {max_mAP:.2f} %')\n",
    "print(f'The final mAP achieved is {average_mAP_per_index[-1]*100:.2f} %')"
   ]
  },
  {
   "cell_type": "markdown",
   "metadata": {},
   "source": [
    "The Hyperparameters combination with the best mAP:"
   ]
  },
  {
   "cell_type": "code",
   "execution_count": null,
   "metadata": {},
   "outputs": [],
   "source": [
    "max_mAP_index = np.argmax(average_mAP_per_index)\n",
    "text = ''\n",
    "for module in data['Hyperparameters']:\n",
    "    for param in data['Hyperparameters'][module]:\n",
    "        if type(data['Hyperparameters'][module][param][max_mAP_index]) == list:\n",
    "            text += '{}:{}\\t'.format(param, data['Hyperparameters'][module][param][max_mAP_index])\n",
    "        else:\n",
    "            text += '{}:{:.2f}\\t'.format(param, data['Hyperparameters'][module][param][max_mAP_index])\n",
    "\n",
    "print(f'{text}mAP: {max_mAP:.2f}%')"
   ]
  },
  {
   "cell_type": "markdown",
   "metadata": {},
   "source": [
    "The Hyperparameters combination with the final mAP:"
   ]
  },
  {
   "cell_type": "code",
   "execution_count": null,
   "metadata": {},
   "outputs": [],
   "source": [
    "last_mAP_index = len(average_mAP_per_index)-1\n",
    "text = ''\n",
    "for module in data['Hyperparameters']:\n",
    "    for param in data['Hyperparameters'][module]:\n",
    "        if type(data['Hyperparameters'][module][param][last_mAP_index]) == list:\n",
    "            text += '{}:{}\\t'.format(param, data['Hyperparameters'][module][param][last_mAP_index])\n",
    "        else:\n",
    "            text += '{}:{:.2f}\\t'.format(param, data['Hyperparameters'][module][param][last_mAP_index])\n",
    "\n",
    "print(f'{text}mAP: {average_mAP_per_index[last_mAP_index]*100:.2f}%')"
   ]
  },
  {
   "cell_type": "markdown",
   "metadata": {},
   "source": [
    "The code for inference"
   ]
  },
  {
   "cell_type": "code",
   "execution_count": null,
   "metadata": {},
   "outputs": [],
   "source": [
    "from thirdparty.openISP.pipeline import Pipeline\n",
    "from thirdparty.openISP.utils.yacs import Config\n",
    "import skimage.io\n",
    "import torch\n",
    "import cv2\n",
    "import matplotlib.pyplot as plt\n",
    "\n",
    "model = torch.hub.load('ultralytics/yolov5', 'yolov5n', pretrained=True, verbose=False)\n",
    "class_colors = {\n",
    "            \"car\": (128, 0, 128),  # Purple\n",
    "            \"person\": (0, 0, 139),  # Dark red\n",
    "            \"motorbike\": (255, 255, 0),  # Cyan\n",
    "            \"motorcycle\": (255, 255, 0),  # Cyan\n",
    "            \"truck\": (0, 139, 139)  # Yellow\n",
    "        }"
   ]
  },
  {
   "cell_type": "code",
   "execution_count": null,
   "metadata": {},
   "outputs": [],
   "source": [
    "def show_bounding_boxes(img, results, classes=[\"car\"], min_conf=0.5, visualize_img=False, save_img=False, out_path=\"\"):\n",
    "    img = cv2.cvtColor(img, cv2.COLOR_RGB2BGR)\n",
    "    bboxes = results.xyxy[0]  # Obtener las bounding boxes\n",
    "    for bbox in bboxes:\n",
    "        class_name = results.names[int(bbox[5])]\n",
    "\n",
    "        if (class_name in classes) and (bbox[4] >= min_conf):\n",
    "            x1, y1, x2, y2 = map(int, bbox[:4])  # bounding box coordinates\n",
    "            label = f\"{class_name}: {bbox[4]:.2f}\"  # Class and confidence score\n",
    "\n",
    "            color = class_colors.get(class_name, (0, 0, 0)) # black if class not exists\n",
    "\n",
    "            # Draw bounding box in the image\n",
    "            cv2.rectangle(img, (x1, y1), (x2, y2), color, 5)\n",
    "            cv2.putText(img, label, (x1, y1 - 10), cv2.FONT_HERSHEY_SIMPLEX, 2, color, 5)\n",
    "    \n",
    "    if visualize_img:\n",
    "        plt.figure(figsize = (80,40))\n",
    "        plt.axis(\"off\")\n",
    "        # convert color from CV2 BGR back to RGB\n",
    "        image = cv2.cvtColor(img, cv2.COLOR_BGR2RGB)\n",
    "        plt.imshow(image)\n",
    "        plt.show()\n",
    "\n",
    "\n",
    "    if save_img:\n",
    "        # Calculate new dimensions (half of original size)\n",
    "        new_width = img.shape[1] // 4\n",
    "        new_height = img.shape[0] // 4\n",
    "        # Resize the image\n",
    "        resized_image = cv2.resize(img, (new_width, new_height))\n",
    "        cv2.imwrite(out_path, img, [cv2.IMWRITE_JPEG_QUALITY, 70])\n",
    "\n",
    "\n",
    "\n",
    "def inference(processed_img, visualize_img=False, classes=['car', 'motorbike', 'person'], min_conf=0.5, save_img=False, out_path=''):\n",
    "    results = model(processed_img)\n",
    "    if visualize_img or save_img:\n",
    "        show_bounding_boxes(processed_img, results, classes, min_conf, visualize_img, save_img, out_path)\n",
    "\n",
    "\n",
    "def process_image(img_path, isp_conf, visualize_img=False, classes=['car', 'motorbike', 'person'], min_conf=0.5, save_img=False, out_path=''):\n",
    "    pipeline = Pipeline(isp_conf)\n",
    "    bayer = skimage.io.imread(img_path).astype(np.uint8)\n",
    "    data, _ = pipeline.execute(bayer, verbose=False)\n",
    "    processed_img = data['output']\n",
    "    #img_name = img_path.split('/')[-1]\n",
    "    #img_out_path = out_path + img_name\n",
    "    # Perform image detection and calculate IoU and mAP\n",
    "    inference(processed_img, visualize_img=visualize_img, classes=classes, min_conf=min_conf, save_img=save_img, out_path=out_path)\n",
    "\n",
    "\n",
    "def load_hyperparameters(dict_hyp, isp_config, dict_idx):\n",
    "    for module in dict_hyp:\n",
    "            for param in dict_hyp[module]:\n",
    "                if type(dict_hyp[module][param][dict_idx]) == list:\n",
    "                    with isp_config.unfreeze():\n",
    "                        isp_config[module][param] = tuple(dict_hyp[module][param][dict_idx])\n",
    "                else:\n",
    "                    with isp_config.unfreeze():\n",
    "                        isp_config[module][param] = dict_hyp[module][param][dict_idx]\n",
    "    return isp_config"
   ]
  },
  {
   "cell_type": "code",
   "execution_count": null,
   "metadata": {},
   "outputs": [],
   "source": [
    "config_file = \"C:/Users/F36RB01/Documents/GitHub/isp_optimizer/configs/default_tuning.yaml\"\n",
    "img_path = \"C:/Users/F36RB01/Documents/master/TFM/repos/raw_dataset.v4i.voc/valid/021.png\"\n",
    "\n",
    "\n",
    "isp_conf = Config(config_file)"
   ]
  },
  {
   "cell_type": "code",
   "execution_count": null,
   "metadata": {},
   "outputs": [],
   "source": [
    "%matplotlib inline\n",
    "process_image(img_path, isp_conf, visualize_img=True, classes=classes)"
   ]
  },
  {
   "cell_type": "code",
   "execution_count": null,
   "metadata": {},
   "outputs": [],
   "source": [
    "new_isp_config = load_hyperparameters(data[\"Hyperparameters\"], isp_conf, max_mAP_index)\n",
    "process_image(img_path, new_isp_config, visualize_img=True, classes=classes)"
   ]
  },
  {
   "cell_type": "code",
   "execution_count": null,
   "metadata": {},
   "outputs": [],
   "source": [
    "new_isp_config = load_hyperparameters(data[\"Hyperparameters\"], isp_conf, last_mAP_index)\n",
    "process_image(img_path, new_isp_config, visualize_img=True, classes=classes)"
   ]
  },
  {
   "cell_type": "code",
   "execution_count": null,
   "metadata": {},
   "outputs": [],
   "source": [
    "for i in range(len(data['car']['mAP'])):\n",
    "    new_isp_config = load_hyperparameters(data[\"Hyperparameters\"], isp_conf, i)\n",
    "    process_image(img_path, new_isp_config, visualize_img=False, classes=classes, save_img=True, out_path='processed_img/file%02d.jpg' % i)\n",
    "\n"
   ]
  },
  {
   "cell_type": "code",
   "execution_count": null,
   "metadata": {},
   "outputs": [],
   "source": [
    "import os\n",
    "import subprocess\n",
    "os.chdir(\"processed_img\")\n",
    "subprocess.call([\n",
    "    'ffmpeg', '-framerate', '8', '-i', 'file%02d.jpg', '-r', '30', '-pix_fmt', 'yuv420p',\n",
    "    'video.mp4'\n",
    "])"
   ]
  },
  {
   "cell_type": "code",
   "execution_count": null,
   "metadata": {},
   "outputs": [],
   "source": [
    "from optimizer.optimizer import Optimizer\n",
    "\n",
    "cfg = Config('configs/main_config_notebook.yaml')\n",
    "opt = Optimizer(cfg)"
   ]
  },
  {
   "cell_type": "code",
   "execution_count": null,
   "metadata": {},
   "outputs": [],
   "source": [
    "\n",
    "load_hyperparameters(data[\"Hyperparameters\"], opt.isp_conf, max_mAP_index)\n",
    "print(opt.isp_conf)"
   ]
  },
  {
   "cell_type": "code",
   "execution_count": null,
   "metadata": {},
   "outputs": [],
   "source": [
    "mean_iou, mean_mAP, end_time = opt.batch_image_processing()\n",
    "print(f'IoU: {mean_iou:.3f} \\t mAP: {mean_mAP:.3f} \\t Computation Time (s): {end_time:.5f}')"
   ]
  },
  {
   "cell_type": "code",
   "execution_count": null,
   "metadata": {},
   "outputs": [],
   "source": [
    "load_hyperparameters(data[\"Hyperparameters\"], opt.isp_conf, last_mAP_index)\n",
    "print(opt.isp_conf)\n",
    "\n",
    "mean_iou, mean_mAP, end_time = opt.batch_image_processing()\n",
    "print(f'IoU: {mean_iou:.3f} \\t mAP: {mean_mAP:.3f} \\t Computation Time (s): {end_time:.5f}')"
   ]
  },
  {
   "cell_type": "markdown",
   "metadata": {},
   "source": [
    "## All classes Last results of 04/09/2023 using training set of 71 images"
   ]
  },
  {
   "cell_type": "code",
   "execution_count": null,
   "metadata": {},
   "outputs": [],
   "source": [
    "yaml_file = 'out/20230904_allclasses/out/optimization_data_cma.yaml'\n",
    "\n",
    "with open(yaml_file, 'r') as file:\n",
    "    data = yaml.load(file, Loader=yaml.FullLoader)\n",
    "data  "
   ]
  },
  {
   "cell_type": "code",
   "execution_count": null,
   "metadata": {},
   "outputs": [],
   "source": [
    "def plot_map(mAP_values, cls=None):\n",
    "    epochs = list(range(1, len(mAP_values)+1))\n",
    "    plt.plot(epochs, mAP_values, linestyle='-', color='b')\n",
    "    plt.xlabel('Epoch')\n",
    "    plt.ylabel('mAP Value')\n",
    "    if cls is not None:\n",
    "        plt.title(f'mAP Evolution for {cls} category')\n",
    "    else:\n",
    "        plt.title('mAP Evolution')\n",
    "    plt.grid(True)\n",
    "    plt.show()"
   ]
  },
  {
   "cell_type": "code",
   "execution_count": null,
   "metadata": {},
   "outputs": [],
   "source": [
    "classes = ['car', 'person', 'motorbike', 'motorcycle']\n",
    "mAP_sum_per_index = np.zeros(len(data['car']['mAP']))\n",
    "valid_classes = 0\n",
    "for cls in classes:\n",
    "    if cls in data.keys():\n",
    "        mAP_values = data[cls]['mAP']\n",
    "        plot_map(mAP_values, cls=cls)\n",
    "        max_mAP = np.max(mAP_values)*100\n",
    "        print(f'The maximum mAP achieved in {cls} category is {max_mAP:.2f} %')\n",
    "\n",
    "        mAP_sum_per_index += mAP_values\n",
    "        valid_classes += 1\n",
    "\n"
   ]
  },
  {
   "cell_type": "code",
   "execution_count": null,
   "metadata": {},
   "outputs": [],
   "source": [
    "average_mAP_per_index = mAP_sum_per_index / valid_classes if valid_classes > 0 else np.zeros(len(data['car']['mAP']))\n",
    "plot_map(average_mAP_per_index)\n",
    "max_mAP = np.max(average_mAP_per_index)*100\n",
    "print(f'The maximum mAP achieved is {max_mAP:.2f} %')\n",
    "print(f'The final mAP achieved is {average_mAP_per_index[-1]*100:.2f} %')"
   ]
  },
  {
   "cell_type": "code",
   "execution_count": null,
   "metadata": {},
   "outputs": [],
   "source": [
    "max_idx = 283*11\n",
    "reduced_average_mAP_per_index = average_mAP_per_index[0:max_idx]\n",
    "reduced_average_mAP_2 = np.zeros(283)\n",
    "for i in range(0,len(reduced_average_mAP_per_index)-10, 11):\n",
    "    #temp_list = reduced_average_mAP_per_index[i:i+11]\n",
    "    #print(temp_list)\n",
    "    reduced_average_mAP_2[int(i/11)] = np.max(reduced_average_mAP_per_index[i:i+11])\n",
    "\n",
    "#print(reduced_average_mAP_2)\n",
    "plot_map(reduced_average_mAP_2)\n",
    "max_mAP = np.max(reduced_average_mAP_2)*100\n",
    "print(f'The maximum mAP achieved is {max_mAP:.2f} %')\n",
    "print(f'The final mAP achieved is {reduced_average_mAP_2[-1]*100:.2f} %')"
   ]
  },
  {
   "cell_type": "markdown",
   "metadata": {},
   "source": [
    "The Hyperparameters combination with the best mAP:"
   ]
  },
  {
   "cell_type": "code",
   "execution_count": null,
   "metadata": {},
   "outputs": [],
   "source": [
    "max_mAP_index = np.argmax(average_mAP_per_index)\n",
    "text = ''\n",
    "for module in data['Hyperparameters']:\n",
    "    for param in data['Hyperparameters'][module]:\n",
    "        if type(data['Hyperparameters'][module][param][max_mAP_index]) == list:\n",
    "            text += '{}:{}\\t'.format(param, data['Hyperparameters'][module][param][max_mAP_index])\n",
    "        else:\n",
    "            text += '{}:{:.2f}\\t'.format(param, data['Hyperparameters'][module][param][max_mAP_index])\n",
    "\n",
    "print(f'{text}mAP: {max_mAP:.2f}%')"
   ]
  },
  {
   "cell_type": "markdown",
   "metadata": {},
   "source": [
    "The Hyperparameters combination with the final mAP:"
   ]
  },
  {
   "cell_type": "code",
   "execution_count": null,
   "metadata": {},
   "outputs": [],
   "source": [
    "last_mAP_index = len(average_mAP_per_index)-1\n",
    "text = ''\n",
    "for module in data['Hyperparameters']:\n",
    "    for param in data['Hyperparameters'][module]:\n",
    "        if type(data['Hyperparameters'][module][param][last_mAP_index]) == list:\n",
    "            text += '{}:{}\\t'.format(param, data['Hyperparameters'][module][param][last_mAP_index])\n",
    "        else:\n",
    "            text += '{}:{:.2f}\\t'.format(param, data['Hyperparameters'][module][param][last_mAP_index])\n",
    "\n",
    "print(f'{text}mAP: {average_mAP_per_index[last_mAP_index]*100:.2f}%')"
   ]
  },
  {
   "cell_type": "markdown",
   "metadata": {},
   "source": [
    "The code for inference"
   ]
  },
  {
   "cell_type": "code",
   "execution_count": null,
   "metadata": {},
   "outputs": [],
   "source": [
    "from thirdparty.openISP.pipeline import Pipeline\n",
    "from thirdparty.openISP.utils.yacs import Config\n",
    "import skimage.io\n",
    "import torch\n",
    "import cv2\n",
    "import matplotlib.pyplot as plt\n",
    "\n",
    "model = torch.hub.load('ultralytics/yolov5', 'yolov5n', pretrained=True, verbose=False)\n",
    "class_colors = {\n",
    "            \"car\": (128, 0, 128),  # Purple\n",
    "            \"person\": (0, 0, 139),  # Dark red\n",
    "            \"motorbike\": (255, 255, 0),  # Cyan\n",
    "            \"motorcycle\": (255, 255, 0),  # Cyan\n",
    "            \"truck\": (0, 139, 139)  # Yellow\n",
    "        }"
   ]
  },
  {
   "cell_type": "code",
   "execution_count": null,
   "metadata": {},
   "outputs": [],
   "source": [
    "def show_bounding_boxes(img, results, classes=[\"car\"], min_conf=0.5, visualize_img=False, save_img=False, out_path=\"\"):\n",
    "    img = cv2.cvtColor(img, cv2.COLOR_RGB2BGR)\n",
    "    bboxes = results.xyxy[0]  # Obtener las bounding boxes\n",
    "    for bbox in bboxes:\n",
    "        class_name = results.names[int(bbox[5])]\n",
    "\n",
    "        if (class_name in classes) and (bbox[4] >= min_conf):\n",
    "            x1, y1, x2, y2 = map(int, bbox[:4])  # bounding box coordinates\n",
    "            label = f\"{class_name}: {bbox[4]:.2f}\"  # Class and confidence score\n",
    "\n",
    "            color = class_colors.get(class_name, (0, 0, 0)) # black if class not exists\n",
    "\n",
    "            # Draw bounding box in the image\n",
    "            cv2.rectangle(img, (x1, y1), (x2, y2), color, 5)\n",
    "            cv2.putText(img, label, (x1, y1 - 10), cv2.FONT_HERSHEY_SIMPLEX, 2, color, 5)\n",
    "    \n",
    "    if visualize_img:\n",
    "        plt.figure(figsize = (80,40))\n",
    "        plt.axis(\"off\")\n",
    "        # convert color from CV2 BGR back to RGB\n",
    "        image = cv2.cvtColor(img, cv2.COLOR_BGR2RGB)\n",
    "        plt.imshow(image)\n",
    "        plt.show()\n",
    "\n",
    "\n",
    "    if save_img:\n",
    "        # Calculate new dimensions (half of original size)\n",
    "        new_width = img.shape[1] // 4\n",
    "        new_height = img.shape[0] // 4\n",
    "        # Resize the image\n",
    "        resized_image = cv2.resize(img, (new_width, new_height))\n",
    "        cv2.imwrite(out_path, img, [cv2.IMWRITE_JPEG_QUALITY, 70])\n",
    "\n",
    "\n",
    "\n",
    "def inference(processed_img, visualize_img=False, classes=['car', 'motorbike', 'person'], min_conf=0.5, save_img=False, out_path=''):\n",
    "    results = model(processed_img)\n",
    "    if visualize_img or save_img:\n",
    "        show_bounding_boxes(processed_img, results, classes, min_conf, visualize_img, save_img, out_path)\n",
    "\n",
    "\n",
    "def process_image(img_path, isp_conf, visualize_img=False, classes=['car', 'motorbike', 'person'], min_conf=0.5, save_img=False, out_path=''):\n",
    "    pipeline = Pipeline(isp_conf)\n",
    "    bayer = skimage.io.imread(img_path).astype(np.uint8)\n",
    "    data, _ = pipeline.execute(bayer, verbose=False)\n",
    "    processed_img = data['output']\n",
    "    #img_name = img_path.split('/')[-1]\n",
    "    #img_out_path = out_path + img_name\n",
    "    # Perform image detection and calculate IoU and mAP\n",
    "    inference(processed_img, visualize_img=visualize_img, classes=classes, min_conf=min_conf, save_img=save_img, out_path=out_path)\n",
    "\n",
    "\n",
    "def load_hyperparameters(dict_hyp, isp_config, dict_idx):\n",
    "    for module in dict_hyp:\n",
    "            for param in dict_hyp[module]:\n",
    "                if type(dict_hyp[module][param][dict_idx]) == list:\n",
    "                    with isp_config.unfreeze():\n",
    "                        isp_config[module][param] = tuple(dict_hyp[module][param][dict_idx])\n",
    "                else:\n",
    "                    with isp_config.unfreeze():\n",
    "                        isp_config[module][param] = dict_hyp[module][param][dict_idx]\n",
    "    return isp_config"
   ]
  },
  {
   "cell_type": "code",
   "execution_count": null,
   "metadata": {},
   "outputs": [],
   "source": [
    "config_file = \"C:/Users/F36RB01/Documents/GitHub/isp_optimizer/configs/default_tuning.yaml\"\n",
    "img_path = \"C:/Users/F36RB01/Documents/master/TFM/repos/raw_dataset.v4i.voc/valid/021.png\"\n",
    "\n",
    "\n",
    "isp_conf = Config(config_file)"
   ]
  },
  {
   "cell_type": "code",
   "execution_count": null,
   "metadata": {},
   "outputs": [],
   "source": [
    "%matplotlib inline\n",
    "process_image(img_path, isp_conf, visualize_img=True, classes=classes)"
   ]
  },
  {
   "cell_type": "code",
   "execution_count": null,
   "metadata": {},
   "outputs": [],
   "source": [
    "new_isp_config = load_hyperparameters(data[\"Hyperparameters\"], isp_conf, max_mAP_index)\n",
    "process_image(img_path, new_isp_config, visualize_img=True, classes=classes)"
   ]
  },
  {
   "cell_type": "code",
   "execution_count": null,
   "metadata": {},
   "outputs": [],
   "source": [
    "new_isp_config = load_hyperparameters(data[\"Hyperparameters\"], isp_conf, last_mAP_index)\n",
    "process_image(img_path, new_isp_config, visualize_img=True, classes=classes)"
   ]
  },
  {
   "cell_type": "code",
   "execution_count": null,
   "metadata": {},
   "outputs": [],
   "source": [
    "for i in range(len(data['car']['mAP'])):\n",
    "    new_isp_config = load_hyperparameters(data[\"Hyperparameters\"], isp_conf, i)\n",
    "    process_image(img_path, new_isp_config, visualize_img=False, classes=classes, save_img=True, out_path='processed_img/file%02d.jpg' % i)\n",
    "\n"
   ]
  },
  {
   "cell_type": "code",
   "execution_count": null,
   "metadata": {},
   "outputs": [],
   "source": [
    "import os\n",
    "import subprocess\n",
    "os.chdir(\"processed_img\")\n",
    "subprocess.call([\n",
    "    'ffmpeg', '-framerate', '8', '-i', 'file%02d.jpg', '-r', '30', '-pix_fmt', 'yuv420p',\n",
    "    'video.mp4'\n",
    "])"
   ]
  },
  {
   "cell_type": "code",
   "execution_count": null,
   "metadata": {},
   "outputs": [],
   "source": [
    "from optimizer.optimizer import Optimizer\n",
    "\n",
    "cfg = Config('configs/main_config_notebook.yaml')\n",
    "opt = Optimizer(cfg)"
   ]
  },
  {
   "cell_type": "code",
   "execution_count": null,
   "metadata": {},
   "outputs": [],
   "source": [
    "\n",
    "load_hyperparameters(data[\"Hyperparameters\"], opt.isp_conf, max_mAP_index)\n",
    "print(opt.isp_conf)"
   ]
  },
  {
   "cell_type": "code",
   "execution_count": null,
   "metadata": {},
   "outputs": [],
   "source": [
    "mean_iou, mean_mAP, end_time = opt.batch_image_processing()\n",
    "print(f'IoU: {mean_iou:.3f} \\t mAP: {mean_mAP:.3f} \\t Computation Time (s): {end_time:.5f}')"
   ]
  },
  {
   "cell_type": "code",
   "execution_count": null,
   "metadata": {},
   "outputs": [],
   "source": [
    "load_hyperparameters(data[\"Hyperparameters\"], opt.isp_conf, last_mAP_index)\n",
    "print(opt.isp_conf)\n",
    "\n",
    "mean_iou, mean_mAP, end_time = opt.batch_image_processing()\n",
    "print(f'IoU: {mean_iou:.3f} \\t mAP: {mean_mAP:.3f} \\t Computation Time (s): {end_time:.5f}')"
   ]
  }
 ],
 "metadata": {
  "kernelspec": {
   "display_name": "Python 3",
   "language": "python",
   "name": "python3"
  },
  "language_info": {
   "codemirror_mode": {
    "name": "ipython",
    "version": 3
   },
   "file_extension": ".py",
   "mimetype": "text/x-python",
   "name": "python",
   "nbconvert_exporter": "python",
   "pygments_lexer": "ipython3",
   "version": "3.11.3"
  },
  "orig_nbformat": 4
 },
 "nbformat": 4,
 "nbformat_minor": 2
}
